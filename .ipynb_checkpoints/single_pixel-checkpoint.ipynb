{
 "cells": [
  {
   "cell_type": "code",
   "execution_count": 1,
   "metadata": {},
   "outputs": [],
   "source": [
    "import numpy as np\n",
    "import math\n",
    "ONB_EPSILON = 0.01\n",
    "import glob\n",
    "import os\n",
    "from tqdm.notebook import tqdm\n",
    "from PIL import Image"
   ]
  },
  {
   "cell_type": "code",
   "execution_count": 2,
   "metadata": {},
   "outputs": [],
   "source": [
    "def getPhi(x, y, z):\n",
    "    return math.degrees(math.atan2(math.sqrt(x**2+z**2), y))\n",
    "def getTheta(x, y, z):\n",
    "    temp_theta = math.degrees(math.atan2(z, x))\n",
    "    if(temp_theta>=0):\n",
    "        return math.degrees(math.atan2(z, x)) # x is the standard\n",
    "    return (temp_theta+360)%360\n",
    "\n",
    "def getX(radius, theta, phi):\n",
    "    return radius * math.cos(theta*0.01745) * math.sin(phi*0.01745)\n",
    "\n",
    "def getZ(radius, theta, phi):\n",
    "    return radius * math.sin(theta*0.01745) * math.sin(phi*0.01745)\n",
    "\n",
    "def getY(radius, theta, phi):\n",
    "    return radius * math.cos(phi*0.01745)\n",
    "\n",
    "def normalize(v):\n",
    "    norm = np.linalg.norm(v)\n",
    "    if norm == 0:\n",
    "        return v\n",
    "    return v / norm\n",
    "\n",
    "def initFromU(u):\n",
    "    n = np.array([-1.0, 0.0, 0.0])\n",
    "    m = np.array([0.0, -1.0, 0.0])\n",
    "\n",
    "    U = normalize(u)\n",
    "    V = np.cross(U, n);\n",
    "    if (np.linalg.norm(V) < ONB_EPSILON):\n",
    "        V = np.cross(U, m)\n",
    "    W = np.cross(U,V)\n",
    "    return U, V, W"
   ]
  },
  {
   "cell_type": "code",
   "execution_count": 3,
   "metadata": {},
   "outputs": [],
   "source": [
    "def getLightAngles(light_pos, point, normal):\n",
    "    light_dir = light_pos-point\n",
    "    light_pos = light_pos/np.linalg.norm(light_pos)\n",
    "    "
   ]
  },
  {
   "cell_type": "code",
   "execution_count": 42,
   "metadata": {},
   "outputs": [],
   "source": [
    "face_file = np.loadtxt('face_writer.txt', delimiter=', ')\n",
    "point_data = face_file[:, -3:]\n",
    "point_data = [i/np.linalg.norm(i) for i in point_data]"
   ]
  },
  {
   "cell_type": "code",
   "execution_count": 36,
   "metadata": {},
   "outputs": [],
   "source": [
    "point_angles = [[getPhi(i[0], i[1], i[2]), getTheta(i[0], i[1], i[2])] for i in point_data]"
   ]
  },
  {
   "cell_type": "code",
   "execution_count": 8,
   "metadata": {},
   "outputs": [],
   "source": [
    "def getTransform(point, normal):\n",
    "    transformation_matrix = np.zeros((4,4))\n",
    "    \n",
    "    # Initialize fourth column of viewing matrix\n",
    "    transformation_matrix[:, 3] = np.append(point, 1)\n",
    "    \n",
    "    #Initialize first three columns of viewing matrix\n",
    "    \n",
    "    right, newup, dir = initFromU(normal)\n",
    "    \n",
    "    transformation_matrix[:, 0] = np.append(right, 0)\n",
    "    transformation_matrix[:, 1] = np.append(newup, 0) # check with (-) sign\n",
    "    transformation_matrix[:, 2] = np.append(dir, 0)\n",
    "    \n",
    "    return transformation_matrix, np.linalg.inv(transformation_matrix)"
   ]
  },
  {
   "cell_type": "code",
   "execution_count": 9,
   "metadata": {},
   "outputs": [
    {
     "data": {
      "text/plain": [
       "(1, 4)"
      ]
     },
     "execution_count": 9,
     "metadata": {},
     "output_type": "execute_result"
    }
   ],
   "source": [
    "a = np.expand_dims((np.array([2,0,0,0])),axis = 0)\n",
    "a.shape"
   ]
  },
  {
   "cell_type": "code",
   "execution_count": 10,
   "metadata": {},
   "outputs": [
    {
     "data": {
      "text/plain": [
       "(array([[ 0.,  0.,  1., 10.],\n",
       "        [ 1., -0.,  0.,  0.],\n",
       "        [ 0.,  1., -0.,  0.],\n",
       "        [ 0.,  0.,  0.,  1.]]),\n",
       " array([[  0.,   1.,   0.,   0.],\n",
       "        [  0.,   0.,   1.,   0.],\n",
       "        [  1.,   0.,   0., -10.],\n",
       "        [  0.,   0.,   0.,   1.]]))"
      ]
     },
     "execution_count": 10,
     "metadata": {},
     "output_type": "execute_result"
    }
   ],
   "source": [
    "b = getTransform([10, 0, 0], [0,1,0])\n",
    "b"
   ]
  },
  {
   "cell_type": "code",
   "execution_count": 125,
   "metadata": {},
   "outputs": [
    {
     "ename": "TypeError",
     "evalue": "bad operand type for unary -: 'list'",
     "output_type": "error",
     "traceback": [
      "\u001b[0;31m---------------------------------------------------------------------------\u001b[0m",
      "\u001b[0;31mTypeError\u001b[0m                                 Traceback (most recent call last)",
      "\u001b[0;32m<ipython-input-125-8eb453eddcbb>\u001b[0m in \u001b[0;36m<module>\u001b[0;34m\u001b[0m\n\u001b[0;32m----> 1\u001b[0;31m \u001b[0mgetTransform\u001b[0m\u001b[0;34m(\u001b[0m\u001b[0;34m[\u001b[0m\u001b[0;36m0\u001b[0m\u001b[0;34m,\u001b[0m \u001b[0;36m5\u001b[0m\u001b[0;34m,\u001b[0m \u001b[0;36m0\u001b[0m\u001b[0;34m]\u001b[0m\u001b[0;34m,\u001b[0m \u001b[0;34m[\u001b[0m\u001b[0;36m0\u001b[0m\u001b[0;34m,\u001b[0m\u001b[0;36m1\u001b[0m\u001b[0;34m,\u001b[0m\u001b[0;36m0\u001b[0m\u001b[0;34m]\u001b[0m\u001b[0;34m)\u001b[0m\u001b[0;34m\u001b[0m\u001b[0;34m\u001b[0m\u001b[0m\n\u001b[0m",
      "\u001b[0;32m<ipython-input-124-2a695a793d95>\u001b[0m in \u001b[0;36mgetTransform\u001b[0;34m(point, normal)\u001b[0m\n\u001b[1;32m      3\u001b[0m \u001b[0;34m\u001b[0m\u001b[0m\n\u001b[1;32m      4\u001b[0m     \u001b[0;31m# Initialize fourth column of viewing matrix\u001b[0m\u001b[0;34m\u001b[0m\u001b[0;34m\u001b[0m\u001b[0;34m\u001b[0m\u001b[0m\n\u001b[0;32m----> 5\u001b[0;31m     \u001b[0mtransformation_matrix\u001b[0m\u001b[0;34m[\u001b[0m\u001b[0;34m:\u001b[0m\u001b[0;34m,\u001b[0m \u001b[0;36m3\u001b[0m\u001b[0;34m]\u001b[0m \u001b[0;34m=\u001b[0m \u001b[0mnp\u001b[0m\u001b[0;34m.\u001b[0m\u001b[0mappend\u001b[0m\u001b[0;34m(\u001b[0m\u001b[0;34m-\u001b[0m\u001b[0mpoint\u001b[0m\u001b[0;34m,\u001b[0m \u001b[0;36m1\u001b[0m\u001b[0;34m)\u001b[0m\u001b[0;34m\u001b[0m\u001b[0;34m\u001b[0m\u001b[0m\n\u001b[0m\u001b[1;32m      6\u001b[0m \u001b[0;34m\u001b[0m\u001b[0m\n\u001b[1;32m      7\u001b[0m     \u001b[0;31m#Initialize first three columns of viewing matrix\u001b[0m\u001b[0;34m\u001b[0m\u001b[0;34m\u001b[0m\u001b[0;34m\u001b[0m\u001b[0m\n",
      "\u001b[0;31mTypeError\u001b[0m: bad operand type for unary -: 'list'"
     ]
    }
   ],
   "source": [
    "getTransform([0, 5, 0], [0,1,0])"
   ]
  },
  {
   "cell_type": "code",
   "execution_count": 123,
   "metadata": {},
   "outputs": [
    {
     "data": {
      "text/plain": [
       "array([ 0.,  5., 20.,  1.])"
      ]
     },
     "execution_count": 123,
     "metadata": {},
     "output_type": "execute_result"
    }
   ],
   "source": [
    "np.matmul(getTransform([0, 5, 0], [0,1,0]), [0,20,0,1] )"
   ]
  },
  {
   "cell_type": "code",
   "execution_count": 5,
   "metadata": {},
   "outputs": [
    {
     "data": {
      "text/plain": [
       "(array([0., 1., 0.]), array([ 0., -0.,  1.]), array([ 1.,  0., -0.]))"
      ]
     },
     "execution_count": 5,
     "metadata": {},
     "output_type": "execute_result"
    }
   ],
   "source": [
    "initFromU([0,1,0])"
   ]
  },
  {
   "cell_type": "code",
   "execution_count": 3,
   "metadata": {},
   "outputs": [
    {
     "data": {
      "application/vnd.jupyter.widget-view+json": {
       "model_id": "ef695f63f5e54042a4e087479bdc1e04",
       "version_major": 2,
       "version_minor": 0
      },
      "text/plain": [
       "HBox(children=(FloatProgress(value=0.0, max=2592.0), HTML(value='')))"
      ]
     },
     "metadata": {},
     "output_type": "display_data"
    },
    {
     "name": "stdout",
     "output_type": "stream",
     "text": [
      "\n"
     ]
    }
   ],
   "source": [
    "all_images = glob.glob('../sample_pbrt/images/*.png')\n",
    "image_data = np.zeros((180,360,3))\n",
    "for i in tqdm(range(len(all_images))):\n",
    "    image = all_images[i]\n",
    "    np_img = np.array((Image.open(image)).convert('RGB'))\n",
    "    file_name = os.path.basename(image)\n",
    "    name, ext = os.path.splitext(file_name)\n",
    "    phi, theta = int(name.split('_')[1]), int(name.split('_')[3])\n",
    "    image_data[(phi-1), (theta-1)] = np_img[1,0,:]\n",
    "    "
   ]
  },
  {
   "cell_type": "code",
   "execution_count": 23,
   "metadata": {},
   "outputs": [],
   "source": [
    "a = Image.fromarray(np.uint8(image_data)).resize((72*30, 36*30))"
   ]
  },
  {
   "cell_type": "code",
   "execution_count": 4,
   "metadata": {},
   "outputs": [],
   "source": [
    "big_one = Image.fromarray(np.uint8(image_data))\n",
    "big_one.save('big_one.tga')"
   ]
  },
  {
   "cell_type": "code",
   "execution_count": 17,
   "metadata": {},
   "outputs": [],
   "source": [
    "b = np.array(Image.open('big_one.tga'))"
   ]
  },
  {
   "cell_type": "code",
   "execution_count": 21,
   "metadata": {},
   "outputs": [
    {
     "data": {
      "text/plain": [
       "0.020339506172839507"
      ]
     },
     "execution_count": 21,
     "metadata": {},
     "output_type": "execute_result"
    }
   ],
   "source": [
    "(b[:, :, 2]>0).sum()/(360*180)"
   ]
  },
  {
   "cell_type": "code",
   "execution_count": null,
   "metadata": {},
   "outputs": [],
   "source": [
    "from skimage.restoration import inpaint\n",
    "image_result = inpaint.inpaint_biharmonic(image_defect, mask, multichannel=True)"
   ]
  },
  {
   "cell_type": "code",
   "execution_count": 29,
   "metadata": {},
   "outputs": [
    {
     "ename": "SyntaxError",
     "evalue": "unexpected EOF while parsing (<ipython-input-29-35cae548861b>, line 4)",
     "output_type": "error",
     "traceback": [
      "\u001b[0;36m  File \u001b[0;32m\"<ipython-input-29-35cae548861b>\"\u001b[0;36m, line \u001b[0;32m4\u001b[0m\n\u001b[0;31m    \u001b[0m\n\u001b[0m    ^\u001b[0m\n\u001b[0;31mSyntaxError\u001b[0m\u001b[0;31m:\u001b[0m unexpected EOF while parsing\n"
     ]
    }
   ],
   "source": [
    "mask = np.zeros((180,360))\n",
    "\n",
    "for i in range(180):\n",
    "    for j in range(360):\n",
    "        "
   ]
  },
  {
   "cell_type": "code",
   "execution_count": 28,
   "metadata": {},
   "outputs": [
    {
     "data": {
      "text/plain": [
       "array([[  0,   1,   0],\n",
       "       [  0,   1,   1],\n",
       "       [  0,   1,   2],\n",
       "       ...,\n",
       "       [179, 359,   0],\n",
       "       [179, 359,   1],\n",
       "       [179, 359,   2]])"
      ]
     },
     "execution_count": 28,
     "metadata": {},
     "output_type": "execute_result"
    }
   ],
   "source": [
    "c"
   ]
  },
  {
   "cell_type": "code",
   "execution_count": null,
   "metadata": {},
   "outputs": [],
   "source": []
  }
 ],
 "metadata": {
  "kernelspec": {
   "display_name": "Python 3",
   "language": "python",
   "name": "python3"
  },
  "language_info": {
   "codemirror_mode": {
    "name": "ipython",
    "version": 3
   },
   "file_extension": ".py",
   "mimetype": "text/x-python",
   "name": "python",
   "nbconvert_exporter": "python",
   "pygments_lexer": "ipython3",
   "version": "3.6.10"
  }
 },
 "nbformat": 4,
 "nbformat_minor": 4
}
