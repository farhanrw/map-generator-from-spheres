{
 "cells": [
  {
   "cell_type": "code",
   "execution_count": 3,
   "metadata": {},
   "outputs": [],
   "source": [
    "import numpy as np\n",
    "import math\n",
    "ONB_EPSILON = 0.01\n",
    "import glob\n",
    "import os\n",
    "from tqdm.notebook import tqdm\n",
    "from PIL import Image"
   ]
  },
  {
   "cell_type": "code",
   "execution_count": 4,
   "metadata": {},
   "outputs": [],
   "source": [
    "def getPhi(x, y, z):\n",
    "    value = math.degrees(math.atan2(math.sqrt(x**2+z**2), y))\n",
    "    if value >= 0:\n",
    "        return value \n",
    "    return (value+360)%360\n",
    "def getTheta(x, y, z):\n",
    "    value = math.degrees(math.atan2(z, x)) # x is the standard\n",
    "    if value >= 0:\n",
    "        return value \n",
    "    return (value+360)%360\n",
    "\n",
    "def getX(radius, theta, phi):\n",
    "    return radius * math.cos(theta*0.01745) * math.sin(phi*0.01745)\n",
    "\n",
    "def getZ(radius, theta, phi):\n",
    "    return radius * math.sin(theta*0.01745) * math.sin(phi*0.01745)\n",
    "\n",
    "def getY(radius, theta, phi):\n",
    "    return radius * math.cos(phi*0.01745)\n",
    "\n",
    "def normalize(v):\n",
    "    norm = np.linalg.norm(v)\n",
    "    if norm == 0:\n",
    "        return v\n",
    "    return v / norm\n",
    "\n",
    "def initFromU(u):\n",
    "    n = np.array([0.0, 1.0, 0.0])\n",
    "    m = np.array([0.0, 0.0, 1.0])\n",
    "\n",
    "    U = normalize(u)\n",
    "    V = np.cross(U, n);\n",
    "    if (np.linalg.norm(V) < ONB_EPSILON):\n",
    "        V = np.cross(U, m)\n",
    "    W = np.cross(U,V)\n",
    "    return U, V, W\n",
    "\n",
    "def getLightAngles(light_pos, point, normal):\n",
    "    light_dir = light_pos-point\n",
    "    light_pos = light_pos/np.linalg.norm(light_pos)\n",
    "    \n",
    "def localToWorld(point, normal):\n",
    "    transformation_matrix = np.zeros((4,4))\n",
    "    \n",
    "    # Initialize fourth column of viewing matrix\n",
    "    transformation_matrix[:, 3] = np.append(point, 1)\n",
    "    \n",
    "    #Initialize first three columns of viewing matrix\n",
    "    \n",
    "    right, newup, dir = initFromU(normal)\n",
    "    \n",
    "    transformation_matrix[:, 0] = np.append(right, 0)\n",
    "    transformation_matrix[:, 1] = np.append(newup, 0) # check with (-) sign\n",
    "    transformation_matrix[:, 2] = np.append(dir, 0)\n",
    "    \n",
    "    return transformation_matrix, np.linalg.inv(transformation_matrix)"
   ]
  },
  {
   "cell_type": "code",
   "execution_count": 48,
   "metadata": {},
   "outputs": [],
   "source": [
    "face_file = np.loadtxt('face_writer.txt', delimiter=', ')\n",
    "point_data = face_file[:, 4:7]\n",
    "#point_data = [i/np.linalg.norm(i) for i in point_data] # Optional normalization"
   ]
  },
  {
   "cell_type": "code",
   "execution_count": 49,
   "metadata": {},
   "outputs": [],
   "source": [
    "point_angles = [[getPhi(i[0], i[1], i[2]), getTheta(i[0], i[1], i[2])] for i in point_data]"
   ]
  },
  {
   "cell_type": "code",
   "execution_count": 50,
   "metadata": {},
   "outputs": [],
   "source": [
    "a = np.zeros((180,360,3))"
   ]
  },
  {
   "cell_type": "code",
   "execution_count": 51,
   "metadata": {},
   "outputs": [
    {
     "data": {
      "application/vnd.jupyter.widget-view+json": {
       "model_id": "21c323ba11194180af6b097f19870b39",
       "version_major": 2,
       "version_minor": 0
      },
      "text/plain": [
       "HBox(children=(FloatProgress(value=0.0, max=43933.0), HTML(value='')))"
      ]
     },
     "metadata": {},
     "output_type": "display_data"
    },
    {
     "name": "stdout",
     "output_type": "stream",
     "text": [
      "\n"
     ]
    }
   ],
   "source": [
    "image_file = np.array(Image.open('new_exp.png'))\n",
    "for i in tqdm(range(len(face_file))):\n",
    "    x, y, phi, theta = face_file[i][0], face_file[i][1], point_angles[i][0], point_angles[i][1]\n",
    "    a[int(phi)][int(theta)] = image_file[int(x)][int(y)]\n",
    "    "
   ]
  },
  {
   "cell_type": "code",
   "execution_count": 52,
   "metadata": {},
   "outputs": [
    {
     "data": {
      "image/png": "[encoded data removed]",
      "text/plain": [
       "<PIL.Image.Image image mode=RGB size=360x180 at 0x7F4668ACA6D8>"
      ]
     },
     "metadata": {},
     "output_type": "display_data"
    }
   ],
   "source": [
    "display(Image.fromarray(np.uint8(a)))"
   ]
  },
  {
   "cell_type": "code",
   "execution_count": 24,
   "metadata": {},
   "outputs": [
    {
     "data": {
      "text/plain": [
       "(array([[-0.34142617,  0.        , -0.88342817, -0.205153  ],\n",
       "        [ 0.90058845,  0.26901414, -0.30748447,  2.677684  ],\n",
       "        [ 0.26901414, -0.90058845, -0.09184847,  0.171068  ],\n",
       "        [ 0.        ,  0.        ,  0.        ,  1.        ]]),\n",
       " array([[-3.41426172e-01,  9.00588454e-01,  2.69014136e-01,\n",
       "         -2.52755561e+00],\n",
       "        [-1.93447578e-18,  3.04511612e-01, -1.01942465e+00,\n",
       "         -6.40994934e-01],\n",
       "        [-1.00000000e+00, -3.48058257e-01, -1.03968234e-01,\n",
       "          7.44622664e-01],\n",
       "        [ 0.00000000e+00,  0.00000000e+00,  0.00000000e+00,\n",
       "          1.00000000e+00]]))"
      ]
     },
     "execution_count": 24,
     "metadata": {},
     "output_type": "execute_result"
    }
   ],
   "source": [
    "b, c = localToWorld([-0.205153, 2.677684, 0.171068], [-0.341426, 0.900588, 0.269014])\n",
    "b, c"
   ]
  },
  {
   "cell_type": "code",
   "execution_count": 27,
   "metadata": {},
   "outputs": [
    {
     "data": {
      "text/plain": [
       "array([7.23987843, 1.6285125 , 0.97525503, 1.        ])"
      ]
     },
     "execution_count": 27,
     "metadata": {},
     "output_type": "execute_result"
    }
   ],
   "source": [
    "np.matmul(c, [-3.5386047483649463, 9.336052028716171, 0.5625024017315149, 1])"
   ]
  },
  {
   "cell_type": "code",
   "execution_count": 26,
   "metadata": {},
   "outputs": [],
   "source": [
    "getX(10, 171, 21), getY(10, 171, 21), getZ(10, 171, 21)"
   ]
  },
  {
   "cell_type": "code",
   "execution_count": 28,
   "metadata": {},
   "outputs": [
    {
     "data": {
      "text/plain": [
       "(77.43293649815394, 7.671903408108093)"
      ]
     },
     "execution_count": 28,
     "metadata": {},
     "output_type": "execute_result"
    }
   ],
   "source": [
    "getPhi(7.23987843, 1.6285125 , 0.97525503), getTheta(7.23987843, 1.6285125 , 0.97525503)"
   ]
  },
  {
   "cell_type": "code",
   "execution_count": 44,
   "metadata": {},
   "outputs": [
    {
     "data": {
      "application/vnd.jupyter.widget-view+json": {
       "model_id": "915dbacc14e7416c97ac7cd8f280665d",
       "version_major": 2,
       "version_minor": 0
      },
      "text/plain": [
       "HBox(children=(FloatProgress(value=0.0, max=64800.0), HTML(value='')))"
      ]
     },
     "metadata": {},
     "output_type": "display_data"
    },
    {
     "name": "stdout",
     "output_type": "stream",
     "text": [
      "\n"
     ]
    }
   ],
   "source": [
    "all_images = glob.glob('../sample_pbrt/images/*.png')\n",
    "image_data = np.zeros((180,360,3))\n",
    "for i in tqdm(range(len(all_images))):\n",
    "    image = all_images[i]\n",
    "    np_img = np.array((Image.open(image)).convert('RGB'))\n",
    "    file_name = os.path.basename(image)\n",
    "    name, ext = os.path.splitext(file_name)\n",
    "    phi, theta = int(name.split('_')[1]), int(name.split('_')[3])\n",
    "    image_data[(phi-1), (theta-1)] = np_img[1,0,:]\n",
    "    "
   ]
  },
  {
   "cell_type": "code",
   "execution_count": 23,
   "metadata": {},
   "outputs": [],
   "source": [
    "a = Image.fromarray(np.uint8(image_data)).resize((72*30, 36*30))"
   ]
  },
  {
   "cell_type": "code",
   "execution_count": 45,
   "metadata": {},
   "outputs": [],
   "source": [
    "big_one = Image.fromarray(np.uint8(image_data))\n",
    "big_one.save('big_one.tga')"
   ]
  },
  {
   "cell_type": "code",
   "execution_count": 17,
   "metadata": {},
   "outputs": [],
   "source": [
    "b = np.array(Image.open('big_one.tga'))"
   ]
  },
  {
   "cell_type": "code",
   "execution_count": 21,
   "metadata": {},
   "outputs": [
    {
     "data": {
      "text/plain": [
       "0.020339506172839507"
      ]
     },
     "execution_count": 21,
     "metadata": {},
     "output_type": "execute_result"
    }
   ],
   "source": [
    "(b[:, :, 2]>0).sum()/(360*180)"
   ]
  },
  {
   "cell_type": "code",
   "execution_count": 33,
   "metadata": {},
   "outputs": [],
   "source": [
    "mask = np.zeros((180,360))\n",
    "\n",
    "for i in range(180):\n",
    "    for j in range(360):\n",
    "        if(image_data[i][j].all() == 0):\n",
    "            mask[i][j] = 255"
   ]
  },
  {
   "cell_type": "code",
   "execution_count": 34,
   "metadata": {},
   "outputs": [
    {
     "data": {
      "image/png": "[encoded data removed]",
      "text/plain": [
       "<PIL.Image.Image image mode=L size=360x180 at 0x7F0FFA6FD6D8>"
      ]
     },
     "metadata": {},
     "output_type": "display_data"
    }
   ],
   "source": [
    "display(Image.fromarray(np.uint8(mask)))"
   ]
  },
  {
   "cell_type": "code",
   "execution_count": 35,
   "metadata": {},
   "outputs": [],
   "source": [
    "from skimage.restoration import inpaint\n",
    "image_result = inpaint.inpaint_biharmonic(image_data, mask, multichannel=True)"
   ]
  },
  {
   "cell_type": "code",
   "execution_count": 37,
   "metadata": {},
   "outputs": [
    {
     "data": {
      "image/png": "[encoded data removed]",
      "text/plain": [
       "<PIL.Image.Image image mode=RGB size=360x180 at 0x7F102645E550>"
      ]
     },
     "metadata": {},
     "output_type": "display_data"
    }
   ],
   "source": [
    "display(Image.fromarray(np.uint8(image_result)))"
   ]
  },
  {
   "cell_type": "code",
   "execution_count": 39,
   "metadata": {},
   "outputs": [],
   "source": [
    "Image.fromarray(np.uint8(image_result)).save('inpainted.tga')"
   ]
  },
  {
   "cell_type": "code",
   "execution_count": null,
   "metadata": {},
   "outputs": [],
   "source": []
  }
 ],
 "metadata": {
  "kernelspec": {
   "display_name": "Python 3",
   "language": "python",
   "name": "python3"
  },
  "language_info": {
   "codemirror_mode": {
    "name": "ipython",
    "version": 3
   },
   "file_extension": ".py",
   "mimetype": "text/x-python",
   "name": "python",
   "nbconvert_exporter": "python",
   "pygments_lexer": "ipython3",
   "version": "3.6.10"
  }
 },
 "nbformat": 4,
 "nbformat_minor": 4
}
